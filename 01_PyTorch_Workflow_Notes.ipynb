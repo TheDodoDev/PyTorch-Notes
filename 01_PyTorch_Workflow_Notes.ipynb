{
  "nbformat": 4,
  "nbformat_minor": 0,
  "metadata": {
    "colab": {
      "provenance": [],
      "gpuType": "T4",
      "authorship_tag": "ABX9TyOdX8CmJ7y9OIkRF1tyvW5j",
      "include_colab_link": true
    },
    "kernelspec": {
      "name": "python3",
      "display_name": "Python 3"
    },
    "language_info": {
      "name": "python"
    },
    "accelerator": "GPU"
  },
  "cells": [
    {
      "cell_type": "markdown",
      "metadata": {
        "id": "view-in-github",
        "colab_type": "text"
      },
      "source": [
        "<a href=\"https://colab.research.google.com/github/TheDodoDev/PyTorch-Notes/blob/main/01_PyTorch_Workflow_Notes.ipynb\" target=\"_parent\"><img src=\"https://colab.research.google.com/assets/colab-badge.svg\" alt=\"Open In Colab\"/></a>"
      ]
    },
    {
      "cell_type": "markdown",
      "source": [
        "# PyTorch Workflow\n",
        "\n",
        "Let's explore an example PyTorch end-to-end workflow.\n",
        "\n",
        "Resources:\n",
        "* Ground truth notebook - https://github.com/mrdbourke/pytorch-deep-learning/blob/main/01_pytorch_workflow.ipynb\n",
        "* Book version of notebook - https://www.learnpytorch.io/01_pytorch_workflow/"
      ],
      "metadata": {
        "id": "Y1KQsIs85pwe"
      }
    },
    {
      "cell_type": "code",
      "source": [
        "import torch\n",
        "from torch import nn # nn contains all of PyTorch's building blocks for neural networks\n",
        "import matplotlib.pyplot as plt\n",
        "import numpy as np\n",
        "\n",
        "#Check PyTorch version\n",
        "torch.__version__"
      ],
      "metadata": {
        "colab": {
          "base_uri": "https://localhost:8080/",
          "height": 35
        },
        "id": "ohG2QaZb-yLa",
        "outputId": "1b6aa9de-0cbe-4f64-b57b-d3d3a27f1c47"
      },
      "execution_count": 144,
      "outputs": [
        {
          "output_type": "execute_result",
          "data": {
            "text/plain": [
              "'2.6.0+cu124'"
            ],
            "application/vnd.google.colaboratory.intrinsic+json": {
              "type": "string"
            }
          },
          "metadata": {},
          "execution_count": 144
        }
      ]
    },
    {
      "cell_type": "markdown",
      "source": [
        "## 1. Preparing and loading data\n",
        "\n",
        "Data can be almost anything in machine learning.\n",
        "* Excel spreadsheet\n",
        "* Images of any kind\n",
        "* Videos (YouTube has lots of data...)\n",
        "* Audio like songs or podcasts\n",
        "* DNA\n",
        "* Text\n",
        "\n",
        "ML is a game of 2 parts:\n",
        "1. Get data into a numerical representation\n",
        "2. Build a model to learn patterns in that numerical representation\n",
        "\n",
        "To showcase this, let's create some *known* data using the linear regression formula to make a straight line with *known* **parameters**."
      ],
      "metadata": {
        "id": "HIVpNl7G_tIf"
      }
    },
    {
      "cell_type": "code",
      "source": [
        "# Create known parameters\n",
        "weight = 0.7\n",
        "bias = 0.3\n",
        "\n",
        "# Create some data\n",
        "start = 0\n",
        "end = 1\n",
        "step = 0.02\n",
        "X = torch.arange(start, end, step).unsqueeze(dim=1)\n",
        "y = weight * X + bias\n",
        "\n",
        "X[:10], y[:10], len(X), len(y), X.shape"
      ],
      "metadata": {
        "colab": {
          "base_uri": "https://localhost:8080/"
        },
        "id": "NxVPy0wR_zgk",
        "outputId": "531aba84-d454-44dd-eab9-ffbaacef361d"
      },
      "execution_count": 145,
      "outputs": [
        {
          "output_type": "execute_result",
          "data": {
            "text/plain": [
              "(tensor([[0.0000],\n",
              "         [0.0200],\n",
              "         [0.0400],\n",
              "         [0.0600],\n",
              "         [0.0800],\n",
              "         [0.1000],\n",
              "         [0.1200],\n",
              "         [0.1400],\n",
              "         [0.1600],\n",
              "         [0.1800]]),\n",
              " tensor([[0.3000],\n",
              "         [0.3140],\n",
              "         [0.3280],\n",
              "         [0.3420],\n",
              "         [0.3560],\n",
              "         [0.3700],\n",
              "         [0.3840],\n",
              "         [0.3980],\n",
              "         [0.4120],\n",
              "         [0.4260]]),\n",
              " 50,\n",
              " 50,\n",
              " torch.Size([50, 1]))"
            ]
          },
          "metadata": {},
          "execution_count": 145
        }
      ]
    },
    {
      "cell_type": "markdown",
      "source": [
        "### Splitting data into training and test sets\n",
        "\n",
        "Let's create a training and test set with our data."
      ],
      "metadata": {
        "id": "v-_k6gJmCRjr"
      }
    },
    {
      "cell_type": "code",
      "source": [
        "# Create a train/test split\n",
        "train_split = int(0.8*len(X))\n",
        "X_train, y_train = X[:train_split], y[:train_split]\n",
        "X_test, y_test = X[train_split:], y[train_split:]\n",
        "\n",
        "len(X_train), len(y_train), len(X_test), len(y_test)"
      ],
      "metadata": {
        "colab": {
          "base_uri": "https://localhost:8080/"
        },
        "id": "-GlVLtz8CVp_",
        "outputId": "6cbd56ed-24ba-47a1-febc-402cebe62347"
      },
      "execution_count": 146,
      "outputs": [
        {
          "output_type": "execute_result",
          "data": {
            "text/plain": [
              "(40, 40, 10, 10)"
            ]
          },
          "metadata": {},
          "execution_count": 146
        }
      ]
    },
    {
      "cell_type": "markdown",
      "source": [
        "How might we better visualize our data?\n",
        "This is where the data explorer's motto comes in!\n",
        "\n",
        "`\"Visualize, visualize, visualize!\"`"
      ],
      "metadata": {
        "id": "7Yx2wK4lDu2L"
      }
    },
    {
      "cell_type": "code",
      "source": [
        "def plot_predictions(train_data=X_train, train_labels=y_train, test_data=X_test, test_labels=y_test, predictions=None):\n",
        "  plt.figure(figsize=(10, 7))\n",
        "\n",
        "  # Plot training data in blue\n",
        "  plt.scatter(train_data, train_labels, c=\"b\", s=4, label=\"Training data\")\n",
        "\n",
        "  #Plot test data in green\n",
        "  plt.scatter(test_data, test_labels, c=\"g\", s=4, label=\"Testing data\")\n",
        "\n",
        "  if predictions is not None:\n",
        "    plt.scatter(test_data, predictions, c=\"r\", s=4, label=\"Predictions\")\n",
        "\n",
        "  #Show the legend\n",
        "  plt.legend(prop={\"size\": 14});"
      ],
      "metadata": {
        "id": "egor8YvoD3zo"
      },
      "execution_count": 147,
      "outputs": []
    },
    {
      "cell_type": "code",
      "source": [
        "plot_predictions()"
      ],
      "metadata": {
        "colab": {
          "base_uri": "https://localhost:8080/",
          "height": 599
        },
        "id": "euRmxA7WFEi6",
        "outputId": "a0e622a0-199f-46ec-dba9-97fdddf08d1a"
      },
      "execution_count": 148,
      "outputs": [
        {
          "output_type": "display_data",
          "data": {
            "text/plain": [
              "<Figure size 1000x700 with 1 Axes>"
            ],
            "image/png": "[encoded data removed]"
          },
          "metadata": {}
        }
      ]
    },
    {
      "cell_type": "markdown",
      "source": [
        "## 2. Build model\n",
        "\n",
        "What our model does:\n",
        "* Start with random values (weight & bias)\n",
        "* Look at training data and adjust random values to get closer to ideal values\n",
        "\n",
        "It does this through 2 main algorithms:\n",
        "1. Gradient descent (`requires_grad = True`)\n",
        "2. Backpropagation"
      ],
      "metadata": {
        "id": "mrouua5o8rkm"
      }
    },
    {
      "cell_type": "code",
      "source": [
        "# Create a linear regression model class\n",
        "class LinearRegressionModel(nn.Module): # <- almost everything in PyTorch inherits from nn.Module\n",
        "  def __init__(self):\n",
        "    super().__init__()\n",
        "    self.weights = nn.Parameter(torch.randn(1,\n",
        "                                            requires_grad=True,\n",
        "                                            dtype=torch.float))\n",
        "    self.bias = nn.Parameter(torch.randn(1,\n",
        "                                         requires_grad=True,\n",
        "                                         dtype=torch.float))\n",
        "\n",
        "  # Forward Method to define the computation in the model\n",
        "  def forward(self, x: torch.Tensor) -> torch.Tensor: # \"x\" is the input data\n",
        "    return self.weights * x + self.bias # this is the linear regression formula"
      ],
      "metadata": {
        "id": "IfzGwKUq81aB"
      },
      "execution_count": 149,
      "outputs": []
    },
    {
      "cell_type": "markdown",
      "source": [
        "### PyTorch model building essentials\n",
        "\n",
        "* **torch.nn** - contains all of the building blocks for computational graphs (neural networks are considered computational graphs)\n",
        "* **torch.nn.Parameter** - what parameters should our model try and learn, often a PyTorch layer from which torch.nn will set these for us\n",
        "* **torch.nn.Module** - The base class for all neural network module, if you subclass it, you should overwrite `forward()`\n",
        "* **torch.optim** - this is where the optimizers in PyTorch live, help with gradient descent\n",
        "* **def forward()** - all nn.Module subclasses require this method to be overwritten, defines what happens in the forward computation\n",
        "*  **torch.utils.data.Dataset** - represents a map between key (label) and sample (features) pairs of your data such as images and their associated labels\n",
        "* **torch.utils.data.DataLoader** - creates a Python iterable over a torch Dataset (allows you to iterate over your data)"
      ],
      "metadata": {
        "id": "881_tWvkGc8w"
      }
    },
    {
      "cell_type": "markdown",
      "source": [
        "### Checking the contents of our PyTorch model"
      ],
      "metadata": {
        "id": "aMf45bk1NB6w"
      }
    },
    {
      "cell_type": "code",
      "source": [
        "# Create a random seed\n",
        "torch.manual_seed(42)\n",
        "\n",
        "#Create an instance of the model (a subclass of nn.Module)\n",
        "model_0 = LinearRegressionModel()\n",
        "\n",
        "# Check model parameters using .parameters()\n",
        "list(model_0.parameters())"
      ],
      "metadata": {
        "colab": {
          "base_uri": "https://localhost:8080/"
        },
        "id": "5mz1pfGSN0Kh",
        "outputId": "acfbae69-7382-44bb-dc34-9c9f18f472c8"
      },
      "execution_count": 150,
      "outputs": [
        {
          "output_type": "execute_result",
          "data": {
            "text/plain": [
              "[Parameter containing:\n",
              " tensor([0.3367], requires_grad=True),\n",
              " Parameter containing:\n",
              " tensor([0.1288], requires_grad=True)]"
            ]
          },
          "metadata": {},
          "execution_count": 150
        }
      ]
    },
    {
      "cell_type": "code",
      "source": [
        "# List named parameters\n",
        "model_0.state_dict()"
      ],
      "metadata": {
        "colab": {
          "base_uri": "https://localhost:8080/"
        },
        "id": "jKakk42ROzH4",
        "outputId": "378512fc-2057-4828-ab4c-75725999fb29"
      },
      "execution_count": 151,
      "outputs": [
        {
          "output_type": "execute_result",
          "data": {
            "text/plain": [
              "OrderedDict([('weights', tensor([0.3367])), ('bias', tensor([0.1288]))])"
            ]
          },
          "metadata": {},
          "execution_count": 151
        }
      ]
    },
    {
      "cell_type": "markdown",
      "source": [
        "### Making predictions using `torch.inference_mode()`\n",
        "\n",
        "To check our model's predictive power, let's see how well it predicts `y_test` based on `X_test`\n",
        "\n",
        "When we pass data through our model, it is going to run it through the `forward()` method."
      ],
      "metadata": {
        "id": "IaRbyEOfPc-3"
      }
    },
    {
      "cell_type": "code",
      "source": [
        "# Makes predictions with model\n",
        "\n",
        "with torch.inference_mode(): # <- Turns off gradient tracking and uses less data/memory when making predictions\n",
        "  y_preds = model_0(X_test)\n",
        "\n",
        "y_preds"
      ],
      "metadata": {
        "colab": {
          "base_uri": "https://localhost:8080/"
        },
        "id": "zpO1Z-fQPzmt",
        "outputId": "2b8b347d-1348-4f0c-f127-cc3fec5deca2"
      },
      "execution_count": 152,
      "outputs": [
        {
          "output_type": "execute_result",
          "data": {
            "text/plain": [
              "tensor([[0.3982],\n",
              "        [0.4049],\n",
              "        [0.4116],\n",
              "        [0.4184],\n",
              "        [0.4251],\n",
              "        [0.4318],\n",
              "        [0.4386],\n",
              "        [0.4453],\n",
              "        [0.4520],\n",
              "        [0.4588]])"
            ]
          },
          "metadata": {},
          "execution_count": 152
        }
      ]
    },
    {
      "cell_type": "code",
      "source": [
        "y_test"
      ],
      "metadata": {
        "colab": {
          "base_uri": "https://localhost:8080/"
        },
        "id": "waVpkIjDQmx5",
        "outputId": "07d8cf41-4e13-4692-a44a-59039e40f059"
      },
      "execution_count": 153,
      "outputs": [
        {
          "output_type": "execute_result",
          "data": {
            "text/plain": [
              "tensor([[0.8600],\n",
              "        [0.8740],\n",
              "        [0.8880],\n",
              "        [0.9020],\n",
              "        [0.9160],\n",
              "        [0.9300],\n",
              "        [0.9440],\n",
              "        [0.9580],\n",
              "        [0.9720],\n",
              "        [0.9860]])"
            ]
          },
          "metadata": {},
          "execution_count": 153
        }
      ]
    },
    {
      "cell_type": "code",
      "source": [
        "plot_predictions(predictions=y_preds) # Prediction is off because the initial parameters are random and haven't been changed to try to fit the data"
      ],
      "metadata": {
        "colab": {
          "base_uri": "https://localhost:8080/",
          "height": 599
        },
        "id": "dExxs2ltQodz",
        "outputId": "49bada44-6696-4f6c-e974-677dd4aa69d6"
      },
      "execution_count": 154,
      "outputs": [
        {
          "output_type": "display_data",
          "data": {
            "text/plain": [
              "<Figure size 1000x700 with 1 Axes>"
            ],
            "image/png": "[encoded data removed]"
          },
          "metadata": {}
        }
      ]
    },
    {
      "cell_type": "markdown",
      "source": [
        "## 3. Train model\n",
        "\n",
        "The purpose of training is for a model to move from unknown parameters to some *known* parameters (from poor representation to better representation of data).\n",
        "\n",
        "Things needed to train a model:\n",
        "\n",
        "* **Loss function:** A function that measures how off a model's predictions are to expected output\n",
        " * *Note:* Loss function may also be called cost function or criterion in different areas\n",
        "* **Optimizer:** Takes into account the loss of a model and adjusts the model's parameters (e.g. weight and bias) to improve loss function\n",
        "* PyTorch specifically also requires a *training loop* and a *testing loop*\n",
        "\n",
        "  "
      ],
      "metadata": {
        "id": "5jjXK7mACOjc"
      }
    },
    {
      "cell_type": "code",
      "source": [
        "# Check contents of our model\n",
        "model_0.state_dict()"
      ],
      "metadata": {
        "colab": {
          "base_uri": "https://localhost:8080/"
        },
        "id": "oqpnqfr8EDad",
        "outputId": "cf9935c3-9472-4f8f-e9d9-355d2c486105"
      },
      "execution_count": 155,
      "outputs": [
        {
          "output_type": "execute_result",
          "data": {
            "text/plain": [
              "OrderedDict([('weights', tensor([0.3367])), ('bias', tensor([0.1288]))])"
            ]
          },
          "metadata": {},
          "execution_count": 155
        }
      ]
    },
    {
      "cell_type": "markdown",
      "source": [
        "**Learning rate** - higher the rate, the more it changes the parameters"
      ],
      "metadata": {
        "id": "YsaMHhVPMyiI"
      }
    },
    {
      "cell_type": "code",
      "source": [
        "# Setup a loss function\n",
        "loss_fn = nn.L1Loss()\n",
        "\n",
        "# Setup an optimizer (stochastic gradient descent)\n",
        "optimizer = torch.optim.SGD(params=model_0.parameters(),\n",
        "                            lr=0.001) # lr = learning rate = possibly the most important hyperparameter you can set"
      ],
      "metadata": {
        "id": "Sz8LosN4K_pb"
      },
      "execution_count": 156,
      "outputs": []
    },
    {
      "cell_type": "markdown",
      "source": [
        "### Building a training loop in PyTorch\n",
        "\n",
        "There are a couple of things we need in a training loop:\n",
        "0. Loop through the data\n",
        "1. Forward pass - this involves data moving through model's `forward()` function aka forward propogation\n",
        "2. Calculate the loss (compare forward pass predictions to ground truth labels)\n",
        "3. Optimizer zero grad\n",
        "4. Loss backward - move backwards through the network to calculate the gradients of each parameter of our model with respect to our loss (**backpropogation**)\n",
        "5. Optimizer step - use the optimizer to adjust our model's parameters to try and improve the loss (**gradient descent**)"
      ],
      "metadata": {
        "id": "VFkHchP5NY8S"
      }
    },
    {
      "cell_type": "code",
      "source": [
        "# An epoch is one loop through the data\n",
        "epochs = 2000\n",
        "\n",
        "# Store values in an array\n",
        "epoch_count = []\n",
        "loss_values = []\n",
        "test_loss_values = []\n",
        "\n",
        "# 0. Loop through the data\n",
        "for epoch in range(epochs + 1):\n",
        "  # Set the model to training mode that sets all parameters that require gradients to require gradients\n",
        "  model_0.train()\n",
        "\n",
        "  # 1. Forward pass\n",
        "  y_pred = model_0(X_train)\n",
        "\n",
        "  # 2. Calculate loss\n",
        "  loss = loss_fn(y_pred, y_train)\n",
        "\n",
        "  # 3. Optimize zero grad\n",
        "  optimizer.zero_grad()\n",
        "\n",
        "  # 4. Perform backpropagation on loss with respect to model parameters\n",
        "  loss.backward()\n",
        "\n",
        "  # 5. Step the optimizer\n",
        "  optimizer.step() # by default, how the optimizer changes accumlates through the loop -> as a result, gradients need to be reset to prevent excess change\n",
        "\n",
        "  ### Testing\n",
        "  model_0.eval() # turns off gradient tracking in testing mode (dropout/batch norm layers)\n",
        "  with torch.inference_mode():\n",
        "    # 1. Do the forward pass\n",
        "    test_pred = model_0(X_test)\n",
        "\n",
        "    # 2. Calculate the loss\n",
        "    test_loss = loss_fn(test_pred, y_test)\n",
        "\n",
        "    epoch_count.append(epoch)\n",
        "    loss_values.append(loss)\n",
        "    test_loss_values.append(test_loss)\n",
        "    if(epoch % 100 == 0):\n",
        "      print(f\"Epoch: {epoch} | Loss: {loss} | Test loss: {test_loss}\")\n",
        "      print(model_0.state_dict())\n"
      ],
      "metadata": {
        "id": "cNlpT4e7Nbci",
        "colab": {
          "base_uri": "https://localhost:8080/"
        },
        "collapsed": true,
        "outputId": "be6603f0-76bd-4553-f609-a91b9fe4da17"
      },
      "execution_count": 157,
      "outputs": [
        {
          "output_type": "stream",
          "name": "stdout",
          "text": [
            "Epoch: 0 | Loss: 0.31288138031959534 | Test loss: 0.4931890368461609\n",
            "OrderedDict([('weights', tensor([0.3371])), ('bias', tensor([0.1298]))])\n",
            "Epoch: 100 | Loss: 0.19767141342163086 | Test loss: 0.35847947001457214\n",
            "OrderedDict([('weights', tensor([0.3761])), ('bias', tensor([0.2298]))])\n",
            "Epoch: 200 | Loss: 0.08973254263401031 | Test loss: 0.22795839607715607\n",
            "OrderedDict([('weights', tensor([0.4150])), ('bias', tensor([0.3257]))])\n",
            "Epoch: 300 | Loss: 0.05357731133699417 | Test loss: 0.15086300671100616\n",
            "OrderedDict([('weights', tensor([0.4485])), ('bias', tensor([0.3730]))])\n",
            "Epoch: 400 | Loss: 0.04549176245927811 | Test loss: 0.11657620966434479\n",
            "OrderedDict([('weights', tensor([0.4730])), ('bias', tensor([0.3855]))])\n",
            "Epoch: 500 | Loss: 0.04160415381193161 | Test loss: 0.10088418424129486\n",
            "OrderedDict([('weights', tensor([0.4924])), ('bias', tensor([0.3839]))])\n",
            "Epoch: 600 | Loss: 0.03811401128768921 | Test loss: 0.08986451476812363\n",
            "OrderedDict([('weights', tensor([0.5104])), ('bias', tensor([0.3789]))])\n",
            "Epoch: 700 | Loss: 0.03466346859931946 | Test loss: 0.08097299933433533\n",
            "OrderedDict([('weights', tensor([0.5277])), ('bias', tensor([0.3724]))])\n",
            "Epoch: 800 | Loss: 0.03122851625084877 | Test loss: 0.07297395914793015\n",
            "OrderedDict([('weights', tensor([0.5448])), ('bias', tensor([0.3652]))])\n",
            "Epoch: 900 | Loss: 0.027794325724244118 | Test loss: 0.06490625441074371\n",
            "OrderedDict([('weights', tensor([0.5619])), ('bias', tensor([0.3580]))])\n",
            "Epoch: 1000 | Loss: 0.02435956709086895 | Test loss: 0.05690721794962883\n",
            "OrderedDict([('weights', tensor([0.5790])), ('bias', tensor([0.3508]))])\n",
            "Epoch: 1100 | Loss: 0.02092517353594303 | Test loss: 0.0488395169377327\n",
            "OrderedDict([('weights', tensor([0.5961])), ('bias', tensor([0.3437]))])\n",
            "Epoch: 1200 | Loss: 0.017490629106760025 | Test loss: 0.04084048420190811\n",
            "OrderedDict([('weights', tensor([0.6131])), ('bias', tensor([0.3365]))])\n",
            "Epoch: 1300 | Loss: 0.014056024141609669 | Test loss: 0.03277278691530228\n",
            "OrderedDict([('weights', tensor([0.6302])), ('bias', tensor([0.3293]))])\n",
            "Epoch: 1400 | Loss: 0.010621682740747929 | Test loss: 0.0247737355530262\n",
            "OrderedDict([('weights', tensor([0.6473])), ('bias', tensor([0.3221]))])\n",
            "Epoch: 1500 | Loss: 0.007186878472566605 | Test loss: 0.01670604944229126\n",
            "OrderedDict([('weights', tensor([0.6644])), ('bias', tensor([0.3150]))])\n",
            "Epoch: 1600 | Loss: 0.003752306802198291 | Test loss: 0.008672690019011497\n",
            "OrderedDict([('weights', tensor([0.6815])), ('bias', tensor([0.3078]))])\n",
            "Epoch: 1700 | Loss: 0.0003177322505507618 | Test loss: 0.0006393313524313271\n",
            "OrderedDict([('weights', tensor([0.6986])), ('bias', tensor([0.3006]))])\n",
            "Epoch: 1800 | Loss: 0.0004444979131221771 | Test loss: 0.0005780101055279374\n",
            "OrderedDict([('weights', tensor([0.6997])), ('bias', tensor([0.3008]))])\n",
            "Epoch: 1900 | Loss: 0.0004444979131221771 | Test loss: 0.0005780101055279374\n",
            "OrderedDict([('weights', tensor([0.6997])), ('bias', tensor([0.3008]))])\n",
            "Epoch: 2000 | Loss: 0.0004444979131221771 | Test loss: 0.0005780101055279374\n",
            "OrderedDict([('weights', tensor([0.6997])), ('bias', tensor([0.3008]))])\n"
          ]
        }
      ]
    },
    {
      "cell_type": "code",
      "source": [
        "loss, model_0.state_dict()"
      ],
      "metadata": {
        "colab": {
          "base_uri": "https://localhost:8080/"
        },
        "id": "W5L55GPcwT1W",
        "outputId": "7f44bfec-8251-4708-9fd7-d37e68c2bc42"
      },
      "execution_count": 158,
      "outputs": [
        {
          "output_type": "execute_result",
          "data": {
            "text/plain": [
              "(tensor(0.0004, grad_fn=<MeanBackward0>),\n",
              " OrderedDict([('weights', tensor([0.6997])), ('bias', tensor([0.3008]))]))"
            ]
          },
          "metadata": {},
          "execution_count": 158
        }
      ]
    },
    {
      "cell_type": "code",
      "source": [
        "# Plot the loss curves\n",
        "plt.plot(epoch_count, np.array(torch.tensor(loss_values).numpy()), label=\"Train loss\")\n",
        "plt.plot(epoch_count, np.array(torch.tensor(test_loss_values).numpy()), label=\"Test loss\")\n",
        "plt.title(\"Training and testing loss cueves\")\n",
        "plt.ylabel(\"Loss\")\n",
        "plt.xlabel(\"Epoch\")\n",
        "plt.legend()"
      ],
      "metadata": {
        "colab": {
          "base_uri": "https://localhost:8080/",
          "height": 489
        },
        "id": "2L1m2cHK1rcP",
        "outputId": "e7f4a141-53ac-4d5f-962b-e941b5b8c4f4"
      },
      "execution_count": 159,
      "outputs": [
        {
          "output_type": "execute_result",
          "data": {
            "text/plain": [
              "<matplotlib.legend.Legend at 0x79d0765e0e10>"
            ]
          },
          "metadata": {},
          "execution_count": 159
        },
        {
          "output_type": "display_data",
          "data": {
            "text/plain": [
              "<Figure size 640x480 with 1 Axes>"
            ],
            "image/png": "[encoded data removed]"
          },
          "metadata": {}
        }
      ]
    },
    {
      "cell_type": "code",
      "source": [],
      "metadata": {
        "id": "AHNvMK871_qx"
      },
      "execution_count": 159,
      "outputs": []
    }
  ]
}